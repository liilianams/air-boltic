{
 "cells": [
  {
   "cell_type": "markdown",
   "metadata": {
    "application/vnd.databricks.v1+cell": {
     "cellMetadata": {
      "byteLimit": 2048000,
      "rowLimit": 10000
     },
     "inputWidgets": {},
     "nuid": "2a6d6414-cab7-47fc-87bd-746ed9703be6",
     "showTitle": false,
     "tableResultSettingsMap": {},
     "title": ""
    }
   },
   "source": [
    "#### 1. Specify either the S3 or local path that contains the raw data files in CSV and JSON formats"
   ]
  },
  {
   "cell_type": "code",
   "execution_count": 0,
   "metadata": {
    "application/vnd.databricks.v1+cell": {
     "cellMetadata": {
      "byteLimit": 2048000,
      "rowLimit": 10000
     },
     "inputWidgets": {},
     "nuid": "0252a3f0-cf63-4f57-83ed-ebecfe634309",
     "showTitle": false,
     "tableResultSettingsMap": {},
     "title": ""
    }
   },
   "outputs": [],
   "source": [
    "# Specify whether the raw files are stored in S3 or in /raw_data directory\n",
    "\n",
    "# Set to True if you wish to use s3 as the data source. \n",
    "# Set to False if raw data is hosted locally here in Databricks in /raw_data folder.\n",
    "use_s3 = True\n",
    "\n",
    "file_path = \"s3://raw-air-boltic/\" if use_s3 else \"/raw_data/\""
   ]
  },
  {
   "cell_type": "markdown",
   "metadata": {
    "application/vnd.databricks.v1+cell": {
     "cellMetadata": {
      "byteLimit": 2048000,
      "rowLimit": 10000
     },
     "inputWidgets": {},
     "nuid": "47a39dd7-0191-4fbf-bcc9-0068fd922a0d",
     "showTitle": false,
     "tableResultSettingsMap": {},
     "title": ""
    }
   },
   "source": [
    "#### 2.a. Load Air Boltic data from CSVs into dataframes"
   ]
  },
  {
   "cell_type": "code",
   "execution_count": 0,
   "metadata": {
    "application/vnd.databricks.v1+cell": {
     "cellMetadata": {
      "byteLimit": 2048000,
      "rowLimit": 10000
     },
     "inputWidgets": {},
     "nuid": "147e9230-ad8e-44b3-af95-36e02ba098b3",
     "showTitle": false,
     "tableResultSettingsMap": {},
     "title": ""
    }
   },
   "outputs": [],
   "source": [
    "if use_s3:\n",
    "    # Read raw data from S3 directly using Spark\n",
    "    df_customer = spark.read.option(\"header\", \"true\").csv(file_path + \"customer.csv\")\n",
    "    df_customer_group = spark.read.option(\"header\", \"true\").csv(file_path + \"customer_group.csv\")\n",
    "    df_aeroplane = spark.read.option(\"header\", \"true\").csv(file_path + \"aeroplane.csv\")\n",
    "    df_order = spark.read.option(\"header\", \"true\").csv(file_path + \"order.csv\")\n",
    "    df_trip = spark.read.option(\"header\", \"true\").csv(file_path + \"trip.csv\")\n",
    "else:\n",
    "    # Read raw data from local using pandas, then convert to Spark\n",
    "    import pandas as pd\n",
    "\n",
    "    pdf_customer = pd.read_csv(file_path + \"customer.csv\")\n",
    "    pdf_customer_group = pd.read_csv(file_path + \"customer_group.csv\")\n",
    "    pdf_aeroplane = pd.read_csv(file_path + \"aeroplane.csv\")\n",
    "    pdf_order = pd.read_csv(file_path + \"order.csv\")\n",
    "    pdf_trip = pd.read_csv(file_path + \"trip.csv\")\n",
    "\n",
    "    df_customer = spark.createDataFrame(pdf_customer)\n",
    "    df_customer_group = spark.createDataFrame(pdf_customer_group)\n",
    "    df_aeroplane = spark.createDataFrame(pdf_aeroplane)\n",
    "    df_order = spark.createDataFrame(pdf_order)\n",
    "    df_trip = spark.createDataFrame(pdf_trip)"
   ]
  },
  {
   "cell_type": "markdown",
   "metadata": {
    "application/vnd.databricks.v1+cell": {
     "cellMetadata": {
      "byteLimit": 2048000,
      "rowLimit": 10000
     },
     "inputWidgets": {},
     "nuid": "dc586add-4031-4fb7-8e05-5b4399c18ae5",
     "showTitle": false,
     "tableResultSettingsMap": {},
     "title": ""
    }
   },
   "source": [
    "#### 2.b. Load Aeroplane Model data from JSON into dataframes and flatten it"
   ]
  },
  {
   "cell_type": "code",
   "execution_count": 0,
   "metadata": {
    "application/vnd.databricks.v1+cell": {
     "cellMetadata": {
      "byteLimit": 2048000,
      "rowLimit": 10000
     },
     "inputWidgets": {},
     "nuid": "15a91e58-b767-414c-84f5-17de864d4e3c",
     "showTitle": false,
     "tableResultSettingsMap": {},
     "title": ""
    }
   },
   "outputs": [],
   "source": [
    "import json\n",
    "import pandas as pd\n",
    "\n",
    "if use_s3:\n",
    "    json_string_multiline = spark.read.text(file_path + \"aeroplane_model.json\").collect()\n",
    "    json_string = json_string = \"\\n\".join(row.value for row in json_string_multiline)\n",
    "    data = json.loads(json_string)\n",
    "else:\n",
    "    with open(file_path + \"aeroplane_model.json\", \"r\") as f:\n",
    "        data = json.load(f)\n",
    "\n",
    "rows = []\n",
    "for manufacturer, models in data.items():\n",
    "    for model, specs in models.items():\n",
    "        rows.append({\n",
    "            \"manufacturer\": manufacturer,\n",
    "            \"model\": model,\n",
    "            **specs\n",
    "        })\n",
    "\n",
    "df_aeroplane_model = pd.DataFrame(rows)\n"
   ]
  },
  {
   "cell_type": "markdown",
   "metadata": {
    "application/vnd.databricks.v1+cell": {
     "cellMetadata": {
      "byteLimit": 2048000,
      "rowLimit": 10000
     },
     "inputWidgets": {},
     "nuid": "1e359e42-5f34-49f1-a919-e43708d4fe43",
     "showTitle": false,
     "tableResultSettingsMap": {},
     "title": ""
    }
   },
   "source": [
    "#### 3. Explore all the raw data"
   ]
  },
  {
   "cell_type": "code",
   "execution_count": 0,
   "metadata": {
    "application/vnd.databricks.v1+cell": {
     "cellMetadata": {
      "byteLimit": 2048000,
      "rowLimit": 10000
     },
     "inputWidgets": {},
     "nuid": "d89f2ee5-1ad2-47a2-a6f3-c4f843e05e86",
     "showTitle": false,
     "tableResultSettingsMap": {},
     "title": ""
    }
   },
   "outputs": [
    {
     "output_type": "display_data",
     "data": {
      "text/html": [
       "<style scoped>\n",
       "  .table-result-container {\n",
       "    max-height: 300px;\n",
       "    overflow: auto;\n",
       "  }\n",
       "  table, th, td {\n",
       "    border: 1px solid black;\n",
       "    border-collapse: collapse;\n",
       "  }\n",
       "  th, td {\n",
       "    padding: 5px;\n",
       "  }\n",
       "  th {\n",
       "    text-align: left;\n",
       "  }\n",
       "</style><div class='table-result-container'><table class='table-result'><thead style='background-color: white'><tr><th>Customer ID</th><th>Name</th><th>Customer Group ID</th><th>Email</th><th>Phone Number</th></tr></thead><tbody><tr><td>1</td><td>John Doe</td><td>1</td><td>john.doe@gmail.com          </td><td>+1-555-123-4567</td></tr><tr><td>2</td><td>Jane Smith</td><td>null</td><td>jane.smith@yahoo.com        </td><td>+44 20 7946 0958</td></tr><tr><td>3</td><td>Alice Johnson</td><td>3</td><td>alice.j@example.com         </td><td>+49-30-12345678</td></tr><tr><td>4</td><td>Bob Brown</td><td>4</td><td>bob.brown@outlook.com       </td><td>+61-2-9876-5432</td></tr><tr><td>5</td><td>Carol White</td><td>null</td><td>carol.white@company.com     </td><td>+1 (555) 567-8901</td></tr><tr><td>6</td><td>David Wilson</td><td>6</td><td>david.wilson@domain.co.uk   </td><td>+33 1 44 55 66 77</td></tr><tr><td>7</td><td>Emma Davis</td><td>7</td><td>emma.davis@abc.net          </td><td>null</td></tr><tr><td>8</td><td>Frank Miller</td><td>null</td><td>frank.m@anothermail.com     </td><td>+91-22-1234-5678</td></tr><tr><td>9</td><td>Grace Taylor</td><td>9</td><td>grace.taylor@mailservice.org</td><td>+81-3-1234-5678</td></tr><tr><td>10</td><td>Henry Anderson</td><td>10</td><td>henry.anderson@website.io   </td><td>+1-555-012-3456</td></tr><tr><td>11</td><td>Irene Thomas</td><td>1</td><td>irene.thomas@samplemail.com </td><td>+34 91 123 45 67</td></tr><tr><td>12</td><td>Jack Moore</td><td>2</td><td>jack.moore@webmail.com      </td><td>null</td></tr><tr><td>13</td><td>Karen Jackson</td><td>null</td><td>karen.jackson@provider.net  </td><td>+61-7-9876-1234</td></tr><tr><td>14</td><td>Larry Harris</td><td>4</td><td>larry.harris@domain.net     </td><td>+27 11 123 4567</td></tr><tr><td>15</td><td>Megan Martin</td><td>5</td><td>null</td><td>+1-555-567-9012</td></tr><tr><td>16</td><td>Nancy Thompson</td><td>6</td><td>nancy.t@gmail.com           </td><td>+1 (555) 678-0123</td></tr><tr><td>17</td><td>Oliver Garcia</td><td>null</td><td>oliver.garcia@mail.org      </td><td>+52 55 1234 5678</td></tr><tr><td>18</td><td>Patricia Martinez</td><td>8</td><td>null</td><td>null</td></tr><tr><td>19</td><td>Quentin Lee</td><td>null</td><td>quentin.lee@example.com     </td><td>+82-2-123-4567</td></tr><tr><td>20</td><td>Rachel Walker</td><td>10</td><td>rachel.walker@company.net   </td><td>+1 (555) 012-4567</td></tr></tbody></table></div>"
      ]
     },
     "metadata": {
      "application/vnd.databricks.v1+output": {
       "addedWidgets": {},
       "aggData": [],
       "aggError": "",
       "aggOverflow": false,
       "aggSchema": [],
       "aggSeriesLimitReached": false,
       "aggType": "",
       "arguments": {},
       "columnCustomDisplayInfos": {},
       "data": [
        [
         "1",
         "John Doe",
         "1",
         "john.doe@gmail.com          ",
         "+1-555-123-4567"
        ],
        [
         "2",
         "Jane Smith",
         null,
         "jane.smith@yahoo.com        ",
         "+44 20 7946 0958"
        ],
        [
         "3",
         "Alice Johnson",
         "3",
         "alice.j@example.com         ",
         "+49-30-12345678"
        ],
        [
         "4",
         "Bob Brown",
         "4",
         "bob.brown@outlook.com       ",
         "+61-2-9876-5432"
        ],
        [
         "5",
         "Carol White",
         null,
         "carol.white@company.com     ",
         "+1 (555) 567-8901"
        ],
        [
         "6",
         "David Wilson",
         "6",
         "david.wilson@domain.co.uk   ",
         "+33 1 44 55 66 77"
        ],
        [
         "7",
         "Emma Davis",
         "7",
         "emma.davis@abc.net          ",
         null
        ],
        [
         "8",
         "Frank Miller",
         null,
         "frank.m@anothermail.com     ",
         "+91-22-1234-5678"
        ],
        [
         "9",
         "Grace Taylor",
         "9",
         "grace.taylor@mailservice.org",
         "+81-3-1234-5678"
        ],
        [
         "10",
         "Henry Anderson",
         "10",
         "henry.anderson@website.io   ",
         "+1-555-012-3456"
        ],
        [
         "11",
         "Irene Thomas",
         "1",
         "irene.thomas@samplemail.com ",
         "+34 91 123 45 67"
        ],
        [
         "12",
         "Jack Moore",
         "2",
         "jack.moore@webmail.com      ",
         null
        ],
        [
         "13",
         "Karen Jackson",
         null,
         "karen.jackson@provider.net  ",
         "+61-7-9876-1234"
        ],
        [
         "14",
         "Larry Harris",
         "4",
         "larry.harris@domain.net     ",
         "+27 11 123 4567"
        ],
        [
         "15",
         "Megan Martin",
         "5",
         null,
         "+1-555-567-9012"
        ],
        [
         "16",
         "Nancy Thompson",
         "6",
         "nancy.t@gmail.com           ",
         "+1 (555) 678-0123"
        ],
        [
         "17",
         "Oliver Garcia",
         null,
         "oliver.garcia@mail.org      ",
         "+52 55 1234 5678"
        ],
        [
         "18",
         "Patricia Martinez",
         "8",
         null,
         null
        ],
        [
         "19",
         "Quentin Lee",
         null,
         "quentin.lee@example.com     ",
         "+82-2-123-4567"
        ],
        [
         "20",
         "Rachel Walker",
         "10",
         "rachel.walker@company.net   ",
         "+1 (555) 012-4567"
        ]
       ],
       "datasetInfos": [],
       "dbfsResultPath": null,
       "isJsonSchema": true,
       "metadata": {},
       "overflow": false,
       "plotOptions": {
        "customPlotOptions": {},
        "displayType": "table",
        "pivotAggregation": null,
        "pivotColumns": null,
        "xColumns": null,
        "yColumns": null
       },
       "removedWidgets": [],
       "schema": [
        {
         "metadata": "{}",
         "name": "Customer ID",
         "type": "\"string\""
        },
        {
         "metadata": "{}",
         "name": "Name",
         "type": "\"string\""
        },
        {
         "metadata": "{}",
         "name": "Customer Group ID",
         "type": "\"string\""
        },
        {
         "metadata": "{}",
         "name": "Email",
         "type": "\"string\""
        },
        {
         "metadata": "{}",
         "name": "Phone Number",
         "type": "\"string\""
        }
       ],
       "type": "table"
      }
     },
     "output_type": "display_data"
    },
    {
     "output_type": "display_data",
     "data": {
      "text/html": [
       "<style scoped>\n",
       "  .table-result-container {\n",
       "    max-height: 300px;\n",
       "    overflow: auto;\n",
       "  }\n",
       "  table, th, td {\n",
       "    border: 1px solid black;\n",
       "    border-collapse: collapse;\n",
       "  }\n",
       "  th, td {\n",
       "    padding: 5px;\n",
       "  }\n",
       "  th {\n",
       "    text-align: left;\n",
       "  }\n",
       "</style><div class='table-result-container'><table class='table-result'><thead style='background-color: white'><tr><th>ID</th><th>Type</th><th>Name</th><th>Registry number</th></tr></thead><tbody><tr><td>1</td><td>Company</td><td>Bolt</td><td>5421524153</td></tr><tr><td>2</td><td>Company</td><td>BigBang</td><td>131101002</td></tr><tr><td>3</td><td>Company</td><td>Lofty</td><td>1533153</td></tr><tr><td>4</td><td>Private Group</td><td>Mari's friends</td><td>null</td></tr><tr><td>5</td><td>Organisation</td><td>Non-profit for dog safety</td><td>AT452453</td></tr></tbody></table></div>"
      ]
     },
     "metadata": {
      "application/vnd.databricks.v1+output": {
       "addedWidgets": {},
       "aggData": [],
       "aggError": "",
       "aggOverflow": false,
       "aggSchema": [],
       "aggSeriesLimitReached": false,
       "aggType": "",
       "arguments": {},
       "columnCustomDisplayInfos": {},
       "data": [
        [
         "1",
         "Company",
         "Bolt",
         "5421524153"
        ],
        [
         "2",
         "Company",
         "BigBang",
         "131101002"
        ],
        [
         "3",
         "Company",
         "Lofty",
         "1533153"
        ],
        [
         "4",
         "Private Group",
         "Mari's friends",
         null
        ],
        [
         "5",
         "Organisation",
         "Non-profit for dog safety",
         "AT452453"
        ]
       ],
       "datasetInfos": [],
       "dbfsResultPath": null,
       "isJsonSchema": true,
       "metadata": {},
       "overflow": false,
       "plotOptions": {
        "customPlotOptions": {},
        "displayType": "table",
        "pivotAggregation": null,
        "pivotColumns": null,
        "xColumns": null,
        "yColumns": null
       },
       "removedWidgets": [],
       "schema": [
        {
         "metadata": "{}",
         "name": "ID",
         "type": "\"string\""
        },
        {
         "metadata": "{}",
         "name": "Type",
         "type": "\"string\""
        },
        {
         "metadata": "{}",
         "name": "Name",
         "type": "\"string\""
        },
        {
         "metadata": "{}",
         "name": "Registry number",
         "type": "\"string\""
        }
       ],
       "type": "table"
      }
     },
     "output_type": "display_data"
    },
    {
     "output_type": "display_data",
     "data": {
      "text/html": [
       "<style scoped>\n",
       "  .table-result-container {\n",
       "    max-height: 300px;\n",
       "    overflow: auto;\n",
       "  }\n",
       "  table, th, td {\n",
       "    border: 1px solid black;\n",
       "    border-collapse: collapse;\n",
       "  }\n",
       "  th, td {\n",
       "    padding: 5px;\n",
       "  }\n",
       "  th {\n",
       "    text-align: left;\n",
       "  }\n",
       "</style><div class='table-result-container'><table class='table-result'><thead style='background-color: white'><tr><th>Trip ID</th><th>Origin City</th><th>Destination City</th><th>Airplane ID</th><th>Start Timestamp</th><th>End Timestamp</th></tr></thead><tbody><tr><td>1</td><td>New York</td><td>London</td><td>1</td><td>2024-08-01 14:30:00</td><td>2024-08-02 02:00:00</td></tr><tr><td>2</td><td>Tokyo</td><td>Paris</td><td>2</td><td>2024-08-03 09:00:00</td><td>2024-08-03 17:00:00</td></tr><tr><td>3</td><td>Sydney</td><td>Los Angeles</td><td>3</td><td>2024-08-05 22:00:00</td><td>2024-08-05 15:00:00</td></tr><tr><td>4</td><td>Dubai</td><td>Singapore</td><td>4</td><td>2024-08-07 06:00:00</td><td>2024-08-07 10:30:00</td></tr><tr><td>5</td><td>Berlin</td><td>Madrid</td><td>5</td><td>2024-08-09 16:00:00</td><td>2024-08-09 19:00:00</td></tr><tr><td>6</td><td>Moscow</td><td>Hong Kong</td><td>6</td><td>2024-08-10 11:00:00</td><td>2024-08-10 21:00:00</td></tr><tr><td>7</td><td>Sao Paulo</td><td>Miami</td><td>7</td><td>2024-08-12 13:00:00</td><td>2024-08-12 19:30:00</td></tr><tr><td>8</td><td>Toronto</td><td>Chicago</td><td>8</td><td>2024-08-13 08:30:00</td><td>2024-08-13 10:00:00</td></tr><tr><td>9</td><td>Beijing</td><td>San Francisco</td><td>9</td><td>2024-08-14 19:00:00</td><td>2024-08-14 13:00:00</td></tr><tr><td>10</td><td>Mumbai</td><td>Dubai</td><td>10</td><td>2024-08-15 04:00:00</td><td>2024-08-15 06:30:00</td></tr><tr><td>11</td><td>Frankfurt</td><td>Tokyo</td><td>1</td><td>2024-08-16 07:00:00</td><td>2024-08-16 23:00:00</td></tr><tr><td>12</td><td>Los Angeles</td><td>Sydney</td><td>2</td><td>2024-08-18 23:30:00</td><td>2024-08-19 09:00:00</td></tr><tr><td>13</td><td>Paris</td><td>New York</td><td>3</td><td>2024-08-20 10:00:00</td><td>2024-08-20 12:30:00</td></tr><tr><td>14</td><td>Hong Kong</td><td>London</td><td>4</td><td>2024-08-21 01:00:00</td><td>2024-08-21 11:00:00</td></tr><tr><td>15</td><td>Amsterdam</td><td>Dubai</td><td>5</td><td>2024-08-22 12:00:00</td><td>2024-08-22 20:00:00</td></tr><tr><td>16</td><td>Rio de Janeiro</td><td>Johannesburg</td><td>6</td><td>2024-08-24 14:30:00</td><td>2024-08-24 19:30:00</td></tr><tr><td>17</td><td>Bangkok</td><td>Frankfurt</td><td>7</td><td>2024-08-25 06:00:00</td><td>2024-08-25 14:30:00</td></tr><tr><td>18</td><td>Melbourne</td><td>Auckland</td><td>8</td><td>2024-08-26 18:00:00</td><td>2024-08-26 23:00:00</td></tr><tr><td>19</td><td>Cape Town</td><td>Sao Paulo</td><td>9</td><td>2024-08-27 07:00:00</td><td>2024-08-27 14:00:00</td></tr><tr><td>20</td><td>Vancouver</td><td>Mexico City</td><td>10</td><td>2024-08-28 09:00:00</td><td>2024-08-28 13:30:00</td></tr></tbody></table></div>"
      ]
     },
     "metadata": {
      "application/vnd.databricks.v1+output": {
       "addedWidgets": {},
       "aggData": [],
       "aggError": "",
       "aggOverflow": false,
       "aggSchema": [],
       "aggSeriesLimitReached": false,
       "aggType": "",
       "arguments": {},
       "columnCustomDisplayInfos": {},
       "data": [
        [
         "1",
         "New York",
         "London",
         "1",
         "2024-08-01 14:30:00",
         "2024-08-02 02:00:00"
        ],
        [
         "2",
         "Tokyo",
         "Paris",
         "2",
         "2024-08-03 09:00:00",
         "2024-08-03 17:00:00"
        ],
        [
         "3",
         "Sydney",
         "Los Angeles",
         "3",
         "2024-08-05 22:00:00",
         "2024-08-05 15:00:00"
        ],
        [
         "4",
         "Dubai",
         "Singapore",
         "4",
         "2024-08-07 06:00:00",
         "2024-08-07 10:30:00"
        ],
        [
         "5",
         "Berlin",
         "Madrid",
         "5",
         "2024-08-09 16:00:00",
         "2024-08-09 19:00:00"
        ],
        [
         "6",
         "Moscow",
         "Hong Kong",
         "6",
         "2024-08-10 11:00:00",
         "2024-08-10 21:00:00"
        ],
        [
         "7",
         "Sao Paulo",
         "Miami",
         "7",
         "2024-08-12 13:00:00",
         "2024-08-12 19:30:00"
        ],
        [
         "8",
         "Toronto",
         "Chicago",
         "8",
         "2024-08-13 08:30:00",
         "2024-08-13 10:00:00"
        ],
        [
         "9",
         "Beijing",
         "San Francisco",
         "9",
         "2024-08-14 19:00:00",
         "2024-08-14 13:00:00"
        ],
        [
         "10",
         "Mumbai",
         "Dubai",
         "10",
         "2024-08-15 04:00:00",
         "2024-08-15 06:30:00"
        ],
        [
         "11",
         "Frankfurt",
         "Tokyo",
         "1",
         "2024-08-16 07:00:00",
         "2024-08-16 23:00:00"
        ],
        [
         "12",
         "Los Angeles",
         "Sydney",
         "2",
         "2024-08-18 23:30:00",
         "2024-08-19 09:00:00"
        ],
        [
         "13",
         "Paris",
         "New York",
         "3",
         "2024-08-20 10:00:00",
         "2024-08-20 12:30:00"
        ],
        [
         "14",
         "Hong Kong",
         "London",
         "4",
         "2024-08-21 01:00:00",
         "2024-08-21 11:00:00"
        ],
        [
         "15",
         "Amsterdam",
         "Dubai",
         "5",
         "2024-08-22 12:00:00",
         "2024-08-22 20:00:00"
        ],
        [
         "16",
         "Rio de Janeiro",
         "Johannesburg",
         "6",
         "2024-08-24 14:30:00",
         "2024-08-24 19:30:00"
        ],
        [
         "17",
         "Bangkok",
         "Frankfurt",
         "7",
         "2024-08-25 06:00:00",
         "2024-08-25 14:30:00"
        ],
        [
         "18",
         "Melbourne",
         "Auckland",
         "8",
         "2024-08-26 18:00:00",
         "2024-08-26 23:00:00"
        ],
        [
         "19",
         "Cape Town",
         "Sao Paulo",
         "9",
         "2024-08-27 07:00:00",
         "2024-08-27 14:00:00"
        ],
        [
         "20",
         "Vancouver",
         "Mexico City",
         "10",
         "2024-08-28 09:00:00",
         "2024-08-28 13:30:00"
        ]
       ],
       "datasetInfos": [],
       "dbfsResultPath": null,
       "isJsonSchema": true,
       "metadata": {},
       "overflow": false,
       "plotOptions": {
        "customPlotOptions": {},
        "displayType": "table",
        "pivotAggregation": null,
        "pivotColumns": null,
        "xColumns": null,
        "yColumns": null
       },
       "removedWidgets": [],
       "schema": [
        {
         "metadata": "{}",
         "name": "Trip ID",
         "type": "\"string\""
        },
        {
         "metadata": "{}",
         "name": "Origin City",
         "type": "\"string\""
        },
        {
         "metadata": "{}",
         "name": "Destination City",
         "type": "\"string\""
        },
        {
         "metadata": "{}",
         "name": "Airplane ID",
         "type": "\"string\""
        },
        {
         "metadata": "{}",
         "name": "Start Timestamp",
         "type": "\"string\""
        },
        {
         "metadata": "{}",
         "name": "End Timestamp",
         "type": "\"string\""
        }
       ],
       "type": "table"
      }
     },
     "output_type": "display_data"
    },
    {
     "output_type": "display_data",
     "data": {
      "text/html": [
       "<style scoped>\n",
       "  .table-result-container {\n",
       "    max-height: 300px;\n",
       "    overflow: auto;\n",
       "  }\n",
       "  table, th, td {\n",
       "    border: 1px solid black;\n",
       "    border-collapse: collapse;\n",
       "  }\n",
       "  th, td {\n",
       "    padding: 5px;\n",
       "  }\n",
       "  th {\n",
       "    text-align: left;\n",
       "  }\n",
       "</style><div class='table-result-container'><table class='table-result'><thead style='background-color: white'><tr><th>Order ID</th><th>Customer ID</th><th>Trip ID</th><th>Price (EUR)</th><th>Seat No</th><th>Status</th></tr></thead><tbody><tr><td>1</td><td>3</td><td>10</td><td>1200</td><td>12A</td><td>Finished</td></tr><tr><td>2</td><td>5</td><td>7</td><td>1800</td><td>8B</td><td>Finished</td></tr><tr><td>3</td><td>8</td><td>2</td><td>1500</td><td>15C</td><td>Finished</td></tr><tr><td>4</td><td>12</td><td>8</td><td>1300</td><td>21D</td><td>Finished</td></tr><tr><td>5</td><td>16</td><td>8</td><td>700</td><td>3E</td><td>Finished</td></tr><tr><td>6</td><td>9</td><td>6</td><td>2000</td><td>9F</td><td>Finished</td></tr><tr><td>7</td><td>2</td><td>6</td><td>1600</td><td>14A</td><td>Booked</td></tr><tr><td>8</td><td>14</td><td>2</td><td>500</td><td>2B</td><td>Finished</td></tr><tr><td>9</td><td>11</td><td>6</td><td>2100</td><td>17C</td><td>Booked</td></tr><tr><td>10</td><td>6</td><td>4</td><td>900</td><td>4D</td><td>Finished</td></tr><tr><td>11</td><td>20</td><td>4</td><td>1900</td><td>10E</td><td>Finished</td></tr><tr><td>12</td><td>4</td><td>6</td><td>2200</td><td>5F</td><td>Finished</td></tr><tr><td>13</td><td>18</td><td>10</td><td>2500</td><td>6A</td><td>Booked</td></tr><tr><td>14</td><td>7</td><td>9</td><td>1700</td><td>13B</td><td>Finished</td></tr><tr><td>15</td><td>13</td><td>3</td><td>800</td><td>7C</td><td>Cancelled</td></tr><tr><td>16</td><td>1</td><td>9</td><td>1400</td><td>1D</td><td>Booked</td></tr><tr><td>17</td><td>17</td><td>4</td><td>2100</td><td>11E</td><td>Finished</td></tr><tr><td>18</td><td>15</td><td>3</td><td>600</td><td>18F</td><td>Cancelled</td></tr><tr><td>19</td><td>10</td><td>8</td><td>2300</td><td>16A</td><td>Booked</td></tr><tr><td>20</td><td>19</td><td>4</td><td>1100</td><td>22B</td><td>Finished</td></tr></tbody></table></div>"
      ]
     },
     "metadata": {
      "application/vnd.databricks.v1+output": {
       "addedWidgets": {},
       "aggData": [],
       "aggError": "",
       "aggOverflow": false,
       "aggSchema": [],
       "aggSeriesLimitReached": false,
       "aggType": "",
       "arguments": {},
       "columnCustomDisplayInfos": {},
       "data": [
        [
         "1",
         "3",
         "10",
         "1200",
         "12A",
         "Finished"
        ],
        [
         "2",
         "5",
         "7",
         "1800",
         "8B",
         "Finished"
        ],
        [
         "3",
         "8",
         "2",
         "1500",
         "15C",
         "Finished"
        ],
        [
         "4",
         "12",
         "8",
         "1300",
         "21D",
         "Finished"
        ],
        [
         "5",
         "16",
         "8",
         "700",
         "3E",
         "Finished"
        ],
        [
         "6",
         "9",
         "6",
         "2000",
         "9F",
         "Finished"
        ],
        [
         "7",
         "2",
         "6",
         "1600",
         "14A",
         "Booked"
        ],
        [
         "8",
         "14",
         "2",
         "500",
         "2B",
         "Finished"
        ],
        [
         "9",
         "11",
         "6",
         "2100",
         "17C",
         "Booked"
        ],
        [
         "10",
         "6",
         "4",
         "900",
         "4D",
         "Finished"
        ],
        [
         "11",
         "20",
         "4",
         "1900",
         "10E",
         "Finished"
        ],
        [
         "12",
         "4",
         "6",
         "2200",
         "5F",
         "Finished"
        ],
        [
         "13",
         "18",
         "10",
         "2500",
         "6A",
         "Booked"
        ],
        [
         "14",
         "7",
         "9",
         "1700",
         "13B",
         "Finished"
        ],
        [
         "15",
         "13",
         "3",
         "800",
         "7C",
         "Cancelled"
        ],
        [
         "16",
         "1",
         "9",
         "1400",
         "1D",
         "Booked"
        ],
        [
         "17",
         "17",
         "4",
         "2100",
         "11E",
         "Finished"
        ],
        [
         "18",
         "15",
         "3",
         "600",
         "18F",
         "Cancelled"
        ],
        [
         "19",
         "10",
         "8",
         "2300",
         "16A",
         "Booked"
        ],
        [
         "20",
         "19",
         "4",
         "1100",
         "22B",
         "Finished"
        ]
       ],
       "datasetInfos": [],
       "dbfsResultPath": null,
       "isJsonSchema": true,
       "metadata": {},
       "overflow": false,
       "plotOptions": {
        "customPlotOptions": {},
        "displayType": "table",
        "pivotAggregation": null,
        "pivotColumns": null,
        "xColumns": null,
        "yColumns": null
       },
       "removedWidgets": [],
       "schema": [
        {
         "metadata": "{}",
         "name": "Order ID",
         "type": "\"string\""
        },
        {
         "metadata": "{}",
         "name": "Customer ID",
         "type": "\"string\""
        },
        {
         "metadata": "{}",
         "name": "Trip ID",
         "type": "\"string\""
        },
        {
         "metadata": "{}",
         "name": "Price (EUR)",
         "type": "\"string\""
        },
        {
         "metadata": "{}",
         "name": "Seat No",
         "type": "\"string\""
        },
        {
         "metadata": "{}",
         "name": "Status",
         "type": "\"string\""
        }
       ],
       "type": "table"
      }
     },
     "output_type": "display_data"
    },
    {
     "output_type": "display_data",
     "data": {
      "text/html": [
       "<style scoped>\n",
       "  .table-result-container {\n",
       "    max-height: 300px;\n",
       "    overflow: auto;\n",
       "  }\n",
       "  table, th, td {\n",
       "    border: 1px solid black;\n",
       "    border-collapse: collapse;\n",
       "  }\n",
       "  th, td {\n",
       "    padding: 5px;\n",
       "  }\n",
       "  th {\n",
       "    text-align: left;\n",
       "  }\n",
       "</style><div class='table-result-container'><table class='table-result'><thead style='background-color: white'><tr><th>Airplane ID</th><th>Airplane Model</th><th>Manufacturer</th></tr></thead><tbody><tr><td>1</td><td>737-800</td><td>Boeing</td></tr><tr><td>2</td><td>A320neo</td><td>Airbus</td></tr><tr><td>3</td><td>E190-E2</td><td>Embraer</td></tr><tr><td>4</td><td>CRJ900</td><td>Bombardier</td></tr><tr><td>5</td><td>737-800</td><td>Boeing</td></tr><tr><td>6</td><td>G650</td><td>Gulfstream</td></tr><tr><td>7</td><td>737-800</td><td>Boeing</td></tr><tr><td>8</td><td>CRJ900</td><td>Bombardier</td></tr><tr><td>9</td><td>CRJ900</td><td>Bombardier</td></tr><tr><td>10</td><td>787-9</td><td>Boeing</td></tr></tbody></table></div>"
      ]
     },
     "metadata": {
      "application/vnd.databricks.v1+output": {
       "addedWidgets": {},
       "aggData": [],
       "aggError": "",
       "aggOverflow": false,
       "aggSchema": [],
       "aggSeriesLimitReached": false,
       "aggType": "",
       "arguments": {},
       "columnCustomDisplayInfos": {},
       "data": [
        [
         "1",
         "737-800",
         "Boeing"
        ],
        [
         "2",
         "A320neo",
         "Airbus"
        ],
        [
         "3",
         "E190-E2",
         "Embraer"
        ],
        [
         "4",
         "CRJ900",
         "Bombardier"
        ],
        [
         "5",
         "737-800",
         "Boeing"
        ],
        [
         "6",
         "G650",
         "Gulfstream"
        ],
        [
         "7",
         "737-800",
         "Boeing"
        ],
        [
         "8",
         "CRJ900",
         "Bombardier"
        ],
        [
         "9",
         "CRJ900",
         "Bombardier"
        ],
        [
         "10",
         "787-9",
         "Boeing"
        ]
       ],
       "datasetInfos": [],
       "dbfsResultPath": null,
       "isJsonSchema": true,
       "metadata": {},
       "overflow": false,
       "plotOptions": {
        "customPlotOptions": {},
        "displayType": "table",
        "pivotAggregation": null,
        "pivotColumns": null,
        "xColumns": null,
        "yColumns": null
       },
       "removedWidgets": [],
       "schema": [
        {
         "metadata": "{}",
         "name": "Airplane ID",
         "type": "\"string\""
        },
        {
         "metadata": "{}",
         "name": "Airplane Model",
         "type": "\"string\""
        },
        {
         "metadata": "{}",
         "name": "Manufacturer",
         "type": "\"string\""
        }
       ],
       "type": "table"
      }
     },
     "output_type": "display_data"
    },
    {
     "output_type": "display_data",
     "data": {
      "text/html": [
       "<style scoped>\n",
       "  .table-result-container {\n",
       "    max-height: 300px;\n",
       "    overflow: auto;\n",
       "  }\n",
       "  table, th, td {\n",
       "    border: 1px solid black;\n",
       "    border-collapse: collapse;\n",
       "  }\n",
       "  th, td {\n",
       "    padding: 5px;\n",
       "  }\n",
       "  th {\n",
       "    text-align: left;\n",
       "  }\n",
       "</style><div class='table-result-container'><table class='table-result'><thead style='background-color: white'><tr><th>manufacturer</th><th>model</th><th>max_seats</th><th>max_weight</th><th>max_distance</th><th>engine_type</th></tr></thead><tbody><tr><td>Boeing</td><td>737-800</td><td>189</td><td>79015</td><td>2935</td><td>CFM56-7B</td></tr><tr><td>Boeing</td><td>777-300ER</td><td>396</td><td>351535</td><td>7930</td><td>GE90-115B</td></tr><tr><td>Boeing</td><td>787-9</td><td>296</td><td>254000</td><td>7635</td><td>GEnx-1B</td></tr><tr><td>Airbus</td><td>A320neo</td><td>194</td><td>79000</td><td>3700</td><td>CFM LEAP-1A</td></tr><tr><td>Airbus</td><td>A350-900</td><td>440</td><td>280000</td><td>8100</td><td>Rolls-Royce Trent XWB</td></tr><tr><td>Airbus</td><td>A380-800</td><td>853</td><td>560000</td><td>8000</td><td>Rolls-Royce Trent 900</td></tr><tr><td>Embraer</td><td>E190-E2</td><td>114</td><td>56600</td><td>3250</td><td>PW1900G</td></tr><tr><td>Embraer</td><td>E175</td><td>88</td><td>37500</td><td>2200</td><td>CF34-8E</td></tr><tr><td>Embraer</td><td>E195-E2</td><td>146</td><td>61700</td><td>2600</td><td>PW1900G</td></tr><tr><td>Bombardier</td><td>CRJ900</td><td>90</td><td>38530</td><td>1554</td><td>CF34-8C5</td></tr><tr><td>Bombardier</td><td>Q400</td><td>90</td><td>29257</td><td>1567</td><td>PW150A</td></tr><tr><td>Cessna</td><td>Citation X+</td><td>12</td><td>16555</td><td>3516</td><td>AE3007C2</td></tr><tr><td>Cessna</td><td>Citation Latitude</td><td>9</td><td>13605</td><td>2700</td><td>PW306D1</td></tr><tr><td>Gulfstream</td><td>G650</td><td>19</td><td>45360</td><td>7500</td><td>BR725</td></tr><tr><td>Gulfstream</td><td>G550</td><td>19</td><td>41300</td><td>6750</td><td>BR710</td></tr><tr><td>Dassault</td><td>Falcon 7X</td><td>19</td><td>31750</td><td>5950</td><td>PW307A</td></tr><tr><td>Dassault</td><td>Falcon 2000LXS</td><td>10</td><td>19105</td><td>4000</td><td>PW308C</td></tr><tr><td>Mitsubishi</td><td>SpaceJet M90</td><td>92</td><td>39000</td><td>2030</td><td>PW1200G</td></tr><tr><td>COMAC</td><td>C919</td><td>174</td><td>72500</td><td>2555</td><td>CFM LEAP-1C</td></tr></tbody></table></div>"
      ]
     },
     "metadata": {
      "application/vnd.databricks.v1+output": {
       "addedWidgets": {},
       "aggData": [],
       "aggError": "",
       "aggOverflow": false,
       "aggSchema": [],
       "aggSeriesLimitReached": false,
       "aggType": "",
       "arguments": {},
       "columnCustomDisplayInfos": {},
       "data": [
        [
         "Boeing",
         "737-800",
         189,
         79015,
         2935,
         "CFM56-7B"
        ],
        [
         "Boeing",
         "777-300ER",
         396,
         351535,
         7930,
         "GE90-115B"
        ],
        [
         "Boeing",
         "787-9",
         296,
         254000,
         7635,
         "GEnx-1B"
        ],
        [
         "Airbus",
         "A320neo",
         194,
         79000,
         3700,
         "CFM LEAP-1A"
        ],
        [
         "Airbus",
         "A350-900",
         440,
         280000,
         8100,
         "Rolls-Royce Trent XWB"
        ],
        [
         "Airbus",
         "A380-800",
         853,
         560000,
         8000,
         "Rolls-Royce Trent 900"
        ],
        [
         "Embraer",
         "E190-E2",
         114,
         56600,
         3250,
         "PW1900G"
        ],
        [
         "Embraer",
         "E175",
         88,
         37500,
         2200,
         "CF34-8E"
        ],
        [
         "Embraer",
         "E195-E2",
         146,
         61700,
         2600,
         "PW1900G"
        ],
        [
         "Bombardier",
         "CRJ900",
         90,
         38530,
         1554,
         "CF34-8C5"
        ],
        [
         "Bombardier",
         "Q400",
         90,
         29257,
         1567,
         "PW150A"
        ],
        [
         "Cessna",
         "Citation X+",
         12,
         16555,
         3516,
         "AE3007C2"
        ],
        [
         "Cessna",
         "Citation Latitude",
         9,
         13605,
         2700,
         "PW306D1"
        ],
        [
         "Gulfstream",
         "G650",
         19,
         45360,
         7500,
         "BR725"
        ],
        [
         "Gulfstream",
         "G550",
         19,
         41300,
         6750,
         "BR710"
        ],
        [
         "Dassault",
         "Falcon 7X",
         19,
         31750,
         5950,
         "PW307A"
        ],
        [
         "Dassault",
         "Falcon 2000LXS",
         10,
         19105,
         4000,
         "PW308C"
        ],
        [
         "Mitsubishi",
         "SpaceJet M90",
         92,
         39000,
         2030,
         "PW1200G"
        ],
        [
         "COMAC",
         "C919",
         174,
         72500,
         2555,
         "CFM LEAP-1C"
        ]
       ],
       "datasetInfos": [],
       "dbfsResultPath": null,
       "isJsonSchema": true,
       "metadata": {},
       "overflow": false,
       "plotOptions": {
        "customPlotOptions": {},
        "displayType": "table",
        "pivotAggregation": null,
        "pivotColumns": null,
        "xColumns": null,
        "yColumns": null
       },
       "removedWidgets": [],
       "schema": [
        {
         "metadata": "{}",
         "name": "manufacturer",
         "type": "\"string\""
        },
        {
         "metadata": "{}",
         "name": "model",
         "type": "\"string\""
        },
        {
         "metadata": "{}",
         "name": "max_seats",
         "type": "\"long\""
        },
        {
         "metadata": "{}",
         "name": "max_weight",
         "type": "\"long\""
        },
        {
         "metadata": "{}",
         "name": "max_distance",
         "type": "\"long\""
        },
        {
         "metadata": "{}",
         "name": "engine_type",
         "type": "\"string\""
        }
       ],
       "type": "table"
      }
     },
     "output_type": "display_data"
    }
   ],
   "source": [
    "df_customer.display()\n",
    "df_customer_group.display()\n",
    "df_trip.display()\n",
    "df_order.display()\n",
    "df_aeroplane.display()\n",
    "df_aeroplane_model.display()"
   ]
  },
  {
   "cell_type": "markdown",
   "metadata": {
    "application/vnd.databricks.v1+cell": {
     "cellMetadata": {
      "byteLimit": 2048000,
      "rowLimit": 10000
     },
     "inputWidgets": {},
     "nuid": "2df8dffd-c7c1-47d7-a8f7-037371877989",
     "showTitle": false,
     "tableResultSettingsMap": {},
     "title": ""
    }
   },
   "source": [
    "#### 4. Do some data clean-up\n",
    "\n",
    "##### 4.a. Replace empty strings in column names with underscores to allow the creation of SQL tables here in Databricks. \n",
    "\n",
    "###### Do not edit the column names in any other way. Further clean-up will be done in dbt. "
   ]
  },
  {
   "cell_type": "code",
   "execution_count": 0,
   "metadata": {
    "application/vnd.databricks.v1+cell": {
     "cellMetadata": {
      "byteLimit": 2048000,
      "implicitDf": true,
      "rowLimit": 10000
     },
     "inputWidgets": {},
     "nuid": "865a314e-b2a8-4384-ba97-9499bd421d7e",
     "showTitle": false,
     "tableResultSettingsMap": {},
     "title": ""
    }
   },
   "outputs": [],
   "source": [
    "def clean_column_names(df):\n",
    "    return df.toDF(*[col.replace(\" \", \"_\").replace(\"(\", \"\").replace(\")\", \"\") for col in df.columns])\n",
    "\n",
    "df_customer = clean_column_names(df_customer)\n",
    "df_customer_group = clean_column_names(df_customer_group)\n",
    "df_trip = clean_column_names(df_trip)\n",
    "df_order = clean_column_names(df_order)\n",
    "df_aeroplane = clean_column_names(df_aeroplane)"
   ]
  },
  {
   "cell_type": "code",
   "execution_count": 0,
   "metadata": {
    "application/vnd.databricks.v1+cell": {
     "cellMetadata": {
      "byteLimit": 2048000,
      "rowLimit": 10000
     },
     "inputWidgets": {},
     "nuid": "633c3ede-bc33-4a0a-9bc1-2ef80158a071",
     "showTitle": true,
     "tableResultSettingsMap": {},
     "title": ""
    }
   },
   "outputs": [],
   "source": []
  },
  {
   "cell_type": "markdown",
   "metadata": {
    "application/vnd.databricks.v1+cell": {
     "cellMetadata": {
      "byteLimit": 2048000,
      "rowLimit": 10000
     },
     "inputWidgets": {},
     "nuid": "47ae3944-1488-4084-aaed-a523275a4c8c",
     "showTitle": false,
     "tableResultSettingsMap": {},
     "title": ""
    }
   },
   "source": [
    "##### 4.b. Fix the customer group ID assignment in customer dataframe and add new 'Unknown group'to customer group dataframe.\n",
    "\n",
    "###### This will allow us to treat the customer group ID in customer dataframe as a foreign key later. "
   ]
  },
  {
   "cell_type": "code",
   "execution_count": 0,
   "metadata": {
    "application/vnd.databricks.v1+cell": {
     "cellMetadata": {
      "byteLimit": 2048000,
      "rowLimit": 10000
     },
     "inputWidgets": {},
     "nuid": "f343219b-e31b-430c-8fe8-ad53492b7401",
     "showTitle": false,
     "tableResultSettingsMap": {},
     "title": ""
    }
   },
   "outputs": [],
   "source": [
    "from pyspark.sql import Row\n",
    "from pyspark.sql.functions import when, lit\n",
    "\n",
    "# Add new 'Unknown group' type to df_customer_group so we don't lose the customer group assignment in df_customer table. The assignment of customer group IDs 6-10 may be relevant so we don't want to lose that information\n",
    "new_rows = [\n",
    "        Row(ID='999', Type='Unknown group', Name=None, Registry_number=None),\n",
    "        Row(ID='6', Type='Unknown group', Name=None, Registry_number=None),\n",
    "        Row(ID='7', Type='Unknown group', Name=None, Registry_number=None),\n",
    "        Row(ID='8', Type='Unknown group', Name=None, Registry_number=None),\n",
    "        Row(ID='9', Type='Unknown group', Name=None, Registry_number=None),\n",
    "        Row(ID='10', Type='Unknown group', Name=None, Registry_number=None)\n",
    "    ]\n",
    "new_df = spark.createDataFrame(new_rows, schema=df_customer_group.schema)\n",
    "\n",
    "df_customer_group = df_customer_group.unionAll(new_df)\n",
    "\n",
    "# Set null values in the df_customer.Customer_Group_ID to 999\n",
    "df_customer = df_customer.withColumn(\n",
    "    \"Customer_Group_ID\",\n",
    "    when(df_customer[\"Customer_Group_ID\"].isNull(), lit(\"999\"))\n",
    "    .otherwise(df_customer[\"Customer_Group_ID\"])\n",
    ")"
   ]
  },
  {
   "cell_type": "markdown",
   "metadata": {
    "application/vnd.databricks.v1+cell": {
     "cellMetadata": {
      "byteLimit": 2048000,
      "rowLimit": 10000
     },
     "inputWidgets": {},
     "nuid": "f475302f-4799-4c76-999c-f589b225e2bf",
     "showTitle": false,
     "tableResultSettingsMap": {},
     "title": ""
    }
   },
   "source": [
    "##### 5. Create a SQL schema for storing raw air botlic data"
   ]
  },
  {
   "cell_type": "code",
   "execution_count": 0,
   "metadata": {
    "application/vnd.databricks.v1+cell": {
     "cellMetadata": {
      "byteLimit": 2048000,
      "implicitDf": true,
      "rowLimit": 10000
     },
     "inputWidgets": {},
     "nuid": "28b76238-2d0a-473f-ba79-daa6af97c83f",
     "showTitle": false,
     "tableResultSettingsMap": {},
     "title": ""
    }
   },
   "outputs": [],
   "source": [
    "%sql\n",
    "\n",
    "CREATE SCHEMA IF NOT EXISTS air_boltic_raw;"
   ]
  },
  {
   "cell_type": "markdown",
   "metadata": {
    "application/vnd.databricks.v1+cell": {
     "cellMetadata": {
      "byteLimit": 2048000,
      "rowLimit": 10000
     },
     "inputWidgets": {},
     "nuid": "df793398-e789-4f14-a057-15f7a86756da",
     "showTitle": false,
     "tableResultSettingsMap": {},
     "title": ""
    }
   },
   "source": [
    "##### 6. Create SQL tables from data frames"
   ]
  },
  {
   "cell_type": "code",
   "execution_count": 0,
   "metadata": {
    "application/vnd.databricks.v1+cell": {
     "cellMetadata": {
      "byteLimit": 2048000,
      "implicitDf": true,
      "rowLimit": 10000
     },
     "inputWidgets": {},
     "nuid": "60da574a-06a5-48f4-9b59-a7db18b16222",
     "showTitle": false,
     "tableResultSettingsMap": {},
     "title": ""
    }
   },
   "outputs": [],
   "source": [
    "df_customer.write.mode(\"overwrite\").saveAsTable(\"air_boltic_raw.customers\")\n",
    "df_customer_group.write.mode(\"overwrite\").saveAsTable(\"air_boltic_raw.customer_groups\")\n",
    "df_order.write.mode(\"overwrite\").saveAsTable(\"air_boltic_raw.orders\")\n",
    "df_trip.write.mode(\"overwrite\").saveAsTable(\"air_boltic_raw.trips\")\n",
    "df_aeroplane.write.mode(\"overwrite\").saveAsTable(\"air_boltic_raw.aeroplanes\")\n",
    "\n",
    "spark_df_aeroplane_model = spark.createDataFrame(df_aeroplane_model)\n",
    "spark_df_aeroplane_model.write.mode(\"overwrite\").saveAsTable(\"air_boltic_raw.aeroplane_models\")"
   ]
  },
  {
   "cell_type": "markdown",
   "metadata": {
    "application/vnd.databricks.v1+cell": {
     "cellMetadata": {
      "byteLimit": 2048000,
      "rowLimit": 10000
     },
     "inputWidgets": {},
     "nuid": "66a41a09-4cd9-4802-b219-af0d7447454d",
     "showTitle": false,
     "tableResultSettingsMap": {},
     "title": ""
    }
   },
   "source": [
    "##### _Unused code block_\n",
    "\n",
    "While I didn't end up using this step, I wanted to keep it here to explain my thinking around the start and end timestamps in the <a href=\"https://docs.google.com/spreadsheets/d/1x9F8gAosLABNyGdjaDsAnUQ50bIHp9FKOX1j-7ERBsw/edit?gid=1153973902#gid=1153973902\">trips table</a>. \n",
    "\n",
    "I wasn't sure whether the timestamps in this table are in UTC or not. Usually on the boarding passes and in the booking information the start time is in the origin city timezone and the end time is in the destination city timezone. So at first, I assumed the same thing here. \n",
    "\n",
    "Therefore, I created this cities reference table that can later (in dbt) be used to convert the start and end times to UTC based on the given timezone per city. However, after doing that and then calculating the trip durations, I noticed that some of the durations did not make sense at all considering the distance between the cities. \n",
    "\n",
    "So I ended up not using the timezones, and just assuming that the trip start and end times are in UTC. The durations still don't make sense in all the cases, but considering that this is all test data for this exercise, I hope that that is okay. "
   ]
  },
  {
   "cell_type": "code",
   "execution_count": 0,
   "metadata": {
    "application/vnd.databricks.v1+cell": {
     "cellMetadata": {
      "byteLimit": 2048000,
      "rowLimit": 10000
     },
     "inputWidgets": {},
     "nuid": "3c300d66-873a-459d-82a3-5b561c8266d6",
     "showTitle": false,
     "tableResultSettingsMap": {},
     "title": ""
    }
   },
   "outputs": [
    {
     "output_type": "display_data",
     "data": {
      "text/html": [
       "<style scoped>\n",
       "  .table-result-container {\n",
       "    max-height: 300px;\n",
       "    overflow: auto;\n",
       "  }\n",
       "  table, th, td {\n",
       "    border: 1px solid black;\n",
       "    border-collapse: collapse;\n",
       "  }\n",
       "  th, td {\n",
       "    padding: 5px;\n",
       "  }\n",
       "  th {\n",
       "    text-align: left;\n",
       "  }\n",
       "</style><div class='table-result-container'><table class='table-result'><thead style='background-color: white'><tr><th>city</th><th>timezone</th></tr></thead><tbody><tr><td>Amsterdam</td><td>Europe/Amsterdam</td></tr><tr><td>Auckland</td><td>Pacific/Auckland</td></tr><tr><td>Bangkok</td><td>Asia/Bangkok</td></tr><tr><td>Beijing</td><td>Asia/Shanghai</td></tr><tr><td>Berlin</td><td>Europe/Berlin</td></tr><tr><td>Cape Town</td><td>Africa/Johannesburg</td></tr><tr><td>Chicago</td><td>America/Chicago</td></tr><tr><td>Dubai</td><td>Asia/Dubai</td></tr><tr><td>Frankfurt</td><td>Europe/Berlin</td></tr><tr><td>Hong Kong</td><td>Asia/Hong_Kong</td></tr><tr><td>Johannesburg</td><td>Africa/Johannesburg</td></tr><tr><td>London</td><td>Europe/London</td></tr><tr><td>Los Angeles</td><td>America/Los_Angeles</td></tr><tr><td>Madrid</td><td>Europe/Madrid</td></tr><tr><td>Melbourne</td><td>Australia/Melbourne</td></tr><tr><td>Mexico City</td><td>America/Mexico_City</td></tr><tr><td>Miami</td><td>America/New_York</td></tr><tr><td>Moscow</td><td>Europe/Moscow</td></tr><tr><td>Mumbai</td><td>Asia/Kolkata</td></tr><tr><td>New York</td><td>America/New_York</td></tr><tr><td>Paris</td><td>Europe/Paris</td></tr><tr><td>Rio de Janeiro</td><td>America/Sao_Paulo</td></tr><tr><td>San Francisco</td><td>America/Los_Angeles</td></tr><tr><td>Sao Paulo</td><td>America/Sao_Paulo</td></tr><tr><td>Singapore</td><td>Asia/Singapore</td></tr><tr><td>Sydney</td><td>Australia/Sydney</td></tr><tr><td>Tokyo</td><td>Asia/Tokyo</td></tr><tr><td>Toronto</td><td>America/Toronto</td></tr><tr><td>Vancouver</td><td>America/Vancouver</td></tr></tbody></table></div>"
      ]
     },
     "metadata": {
      "application/vnd.databricks.v1+output": {
       "addedWidgets": {},
       "aggData": [],
       "aggError": "",
       "aggOverflow": false,
       "aggSchema": [],
       "aggSeriesLimitReached": false,
       "aggType": "",
       "arguments": {},
       "columnCustomDisplayInfos": {},
       "data": [
        [
         "Amsterdam",
         "Europe/Amsterdam"
        ],
        [
         "Auckland",
         "Pacific/Auckland"
        ],
        [
         "Bangkok",
         "Asia/Bangkok"
        ],
        [
         "Beijing",
         "Asia/Shanghai"
        ],
        [
         "Berlin",
         "Europe/Berlin"
        ],
        [
         "Cape Town",
         "Africa/Johannesburg"
        ],
        [
         "Chicago",
         "America/Chicago"
        ],
        [
         "Dubai",
         "Asia/Dubai"
        ],
        [
         "Frankfurt",
         "Europe/Berlin"
        ],
        [
         "Hong Kong",
         "Asia/Hong_Kong"
        ],
        [
         "Johannesburg",
         "Africa/Johannesburg"
        ],
        [
         "London",
         "Europe/London"
        ],
        [
         "Los Angeles",
         "America/Los_Angeles"
        ],
        [
         "Madrid",
         "Europe/Madrid"
        ],
        [
         "Melbourne",
         "Australia/Melbourne"
        ],
        [
         "Mexico City",
         "America/Mexico_City"
        ],
        [
         "Miami",
         "America/New_York"
        ],
        [
         "Moscow",
         "Europe/Moscow"
        ],
        [
         "Mumbai",
         "Asia/Kolkata"
        ],
        [
         "New York",
         "America/New_York"
        ],
        [
         "Paris",
         "Europe/Paris"
        ],
        [
         "Rio de Janeiro",
         "America/Sao_Paulo"
        ],
        [
         "San Francisco",
         "America/Los_Angeles"
        ],
        [
         "Sao Paulo",
         "America/Sao_Paulo"
        ],
        [
         "Singapore",
         "Asia/Singapore"
        ],
        [
         "Sydney",
         "Australia/Sydney"
        ],
        [
         "Tokyo",
         "Asia/Tokyo"
        ],
        [
         "Toronto",
         "America/Toronto"
        ],
        [
         "Vancouver",
         "America/Vancouver"
        ]
       ],
       "datasetInfos": [],
       "dbfsResultPath": null,
       "isJsonSchema": true,
       "metadata": {},
       "overflow": false,
       "plotOptions": {
        "customPlotOptions": {},
        "displayType": "table",
        "pivotAggregation": null,
        "pivotColumns": null,
        "xColumns": null,
        "yColumns": null
       },
       "removedWidgets": [],
       "schema": [
        {
         "metadata": "{}",
         "name": "city",
         "type": "\"string\""
        },
        {
         "metadata": "{}",
         "name": "timezone",
         "type": "\"string\""
        }
       ],
       "type": "table"
      }
     },
     "output_type": "display_data"
    }
   ],
   "source": [
    "from pyspark.sql import SparkSession\n",
    "from pyspark.sql.types import StructType, StructField, StringType\n",
    "\n",
    "# Create a city_timezones reference table that can later be used in dbt to convert trip start and end timestamps into UTC\n",
    "\n",
    "# View a list of unique cities to then find their respective timezones\n",
    "origin_cities = [row['Origin_City'] for row in df_trip.select(\"Origin_City\").distinct().collect()]\n",
    "dest_cities = [row['Destination_City'] for row in df_trip.select(\"Destination_City\").distinct().collect()]\n",
    "all_cities = set(origin_cities + dest_cities)\n",
    "# display(all_cities) # Uncomments as needed to view the list of unique cities\n",
    "\n",
    "# This map is hardcoded for now based on all the unique cities in the all_cities set. But in production, here we should use some kind of a helper library/service that can determine the timezone for you based on the city you provide. \n",
    "city_timezone_data = [\n",
    "    (\"Amsterdam\", \"Europe/Amsterdam\"),\n",
    "    (\"Auckland\", \"Pacific/Auckland\"),\n",
    "    (\"Bangkok\", \"Asia/Bangkok\"),\n",
    "    (\"Beijing\", \"Asia/Shanghai\"),\n",
    "    (\"Berlin\", \"Europe/Berlin\"),\n",
    "    (\"Cape Town\", \"Africa/Johannesburg\"),\n",
    "    (\"Chicago\", \"America/Chicago\"),\n",
    "    (\"Dubai\", \"Asia/Dubai\"),\n",
    "    (\"Frankfurt\", \"Europe/Berlin\"),\n",
    "    (\"Hong Kong\", \"Asia/Hong_Kong\"),\n",
    "    (\"Johannesburg\", \"Africa/Johannesburg\"),\n",
    "    (\"London\", \"Europe/London\"),\n",
    "    (\"Los Angeles\", \"America/Los_Angeles\"),\n",
    "    (\"Madrid\", \"Europe/Madrid\"),\n",
    "    (\"Melbourne\", \"Australia/Melbourne\"),\n",
    "    (\"Mexico City\", \"America/Mexico_City\"),\n",
    "    (\"Miami\", \"America/New_York\"),\n",
    "    (\"Moscow\", \"Europe/Moscow\"),\n",
    "    (\"Mumbai\", \"Asia/Kolkata\"),\n",
    "    (\"New York\", \"America/New_York\"),\n",
    "    (\"Paris\", \"Europe/Paris\"),\n",
    "    (\"Rio de Janeiro\", \"America/Sao_Paulo\"),\n",
    "    (\"San Francisco\", \"America/Los_Angeles\"),\n",
    "    (\"Sao Paulo\", \"America/Sao_Paulo\"),\n",
    "    (\"Singapore\", \"Asia/Singapore\"),\n",
    "    (\"Sydney\", \"Australia/Sydney\"),\n",
    "    (\"Tokyo\", \"Asia/Tokyo\"),\n",
    "    (\"Toronto\", \"America/Toronto\"),\n",
    "    (\"Vancouver\", \"America/Vancouver\")\n",
    "]\n",
    "\n",
    "schema = StructType([\n",
    "    StructField(\"city\", StringType(), False),\n",
    "    StructField(\"timezone\", StringType(), False)\n",
    "])\n",
    "\n",
    "df_cities = spark.createDataFrame(city_timezone_data, schema=schema)\n",
    "# Do not create the table for now\n",
    "# df_cities.write.mode(\"overwrite\").saveAsTable(\"air_boltic_raw.cities\")\n",
    "\n",
    "df_cities.display()\n"
   ]
  }
 ],
 "metadata": {
  "application/vnd.databricks.v1+notebook": {
   "computePreferences": null,
   "dashboards": [],
   "environmentMetadata": {
    "base_environment": "",
    "environment_version": "2"
   },
   "inputWidgetPreferences": null,
   "language": "python",
   "notebookMetadata": {
    "mostRecentlyExecutedCommandWithImplicitDF": {
     "commandId": 2532560469092308,
     "dataframes": [
      "_sqldf"
     ]
    },
    "pythonIndentUnit": 4
   },
   "notebookName": "Air Boltic Notebook_Liilia Namsing",
   "widgets": {}
  },
  "language_info": {
   "name": "python"
  }
 },
 "nbformat": 4,
 "nbformat_minor": 0
}